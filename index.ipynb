{
 "cells": [
  {
   "cell_type": "markdown",
   "metadata": {},
   "source": [
    "# Final Project Submission\n",
    "\n",
    "Student name : Jeremiah Waiguru\n",
    "\n",
    "Student pace : Full time hybrid\n",
    "\n",
    "Instructor name : Mwikali"
   ]
  },
  {
   "cell_type": "markdown",
   "metadata": {},
   "source": [
    "## Customer Churn Prediction at SyriaTel"
   ]
  },
  {
   "cell_type": "markdown",
   "metadata": {},
   "source": [
    "## Overview"
   ]
  },
  {
   "cell_type": "markdown",
   "metadata": {},
   "source": [
    "## Stakeholder & Business undertsanding\n",
    "\n",
    "The stakeholder for this project is the Chief Executive Officer (CEO) of  SyriaTel, a telecommunications company established in Syria. It is losing money because of client attrition. Churn is the rate at which customers discontinue doing business with a company over time for one or more reasons. As a result, the telecommunications company wishes to develop a classifier capable of predicting increased revenues by minimizing customer churn in the organization."
   ]
  },
  {
   "cell_type": "markdown",
   "metadata": {},
   "source": [
    "## Problem statement\n",
    "\n",
    "SyriaTel has suffered huge losses due to a high churn rate. The purpose of this project is to create an accurate prediction model that identifies clients at risk of churn inside SyriaTel, a telecoms provider.\n",
    "\n",
    "The goal of proactive identification of possible service discontinuations is to reduce customer attrition and maintain a larger client base. Finally, this effort aims to help SyriaTel reduce financial losses due to churn, increase overall customer retention rates, and improve business tactics to boost profitability."
   ]
  },
  {
   "cell_type": "markdown",
   "metadata": {},
   "source": [
    "## Business objectives\n",
    "\n",
    "1. To identify the elements that contribute to consumer attrition.\n",
    "2. To understand the characteristics of the customers who churn\n",
    "3. To improve overall client retention."
   ]
  }
 ],
 "metadata": {
  "language_info": {
   "name": "python"
  }
 },
 "nbformat": 4,
 "nbformat_minor": 2
}
